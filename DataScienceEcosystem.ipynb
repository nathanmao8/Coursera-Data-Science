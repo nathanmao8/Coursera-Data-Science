{
 "cells": [
  {
   "cell_type": "markdown",
   "id": "85e559a1-950d-4fad-8d9b-f11a16403ac8",
   "metadata": {},
   "source": [
    "# Data Science Tools and Ecosystem"
   ]
  },
  {
   "cell_type": "markdown",
   "id": "27f31250-eb7d-4832-bfad-80d5c3111f0f",
   "metadata": {},
   "source": [
    "In this notebook, Data Science Tools and Ecosystem are summarized."
   ]
  },
  {
   "cell_type": "markdown",
   "id": "14ca72cc-2963-4a1e-93cb-d347996b6509",
   "metadata": {},
   "source": [
    "Some of the popular languages that Data Scientists use are:\n",
    "1. Python\n",
    "2. R\n",
    "3. SQL"
   ]
  },
  {
   "cell_type": "markdown",
   "id": "24fe39ce-9c0a-4df3-8cb2-90efa425c17a",
   "metadata": {},
   "source": [
    "Some of the commonly used libraries used by Data Scientists include:\n",
    "1. Pandas\n",
    "2. Numpy\n",
    "3. Matplotlib"
   ]
  },
  {
   "cell_type": "markdown",
   "id": "1d95614f-f32f-4a02-bf6f-fba67c145775",
   "metadata": {},
   "source": [
    "| Data Science Tools |\n",
    "| ----------- |\n",
    "| Jupyter Notebook |\n",
    "| RStudio |\n",
    "| Github |"
   ]
  },
  {
   "cell_type": "markdown",
   "id": "8aed5600-b8db-4d36-8f49-b5d28783581e",
   "metadata": {},
   "source": [
    "### Below are a few examples of evaluating arithmetic expressions in Python"
   ]
  },
  {
   "cell_type": "code",
   "execution_count": 5,
   "id": "5eb3450b-5fa3-4803-be14-9936fbb6c6d7",
   "metadata": {},
   "outputs": [
    {
     "data": {
      "text/plain": [
       "17"
      ]
     },
     "execution_count": 5,
     "metadata": {},
     "output_type": "execute_result"
    }
   ],
   "source": [
    "# This a simple arithmetic expression to mutiply then add integers\n",
    "(3*4)+5"
   ]
  },
  {
   "cell_type": "code",
   "execution_count": 7,
   "id": "d1d06a6c-6824-46c4-bf06-ae4301d53102",
   "metadata": {},
   "outputs": [
    {
     "data": {
      "text/plain": [
       "3.3333333333333335"
      ]
     },
     "execution_count": 7,
     "metadata": {},
     "output_type": "execute_result"
    }
   ],
   "source": [
    "# This will convert 200 minutes to hours by diving by 60\n",
    "200/60"
   ]
  },
  {
   "cell_type": "markdown",
   "id": "5fb2ba72-c8db-4e1f-9e9d-dd95cb380ddf",
   "metadata": {},
   "source": [
    "**Objectives:**\n",
    "- List commmon libraries for Data Science\n",
    "- Learn how to use Git and Github\n",
    "- Learn how to use other open source platforms like RStudio"
   ]
  },
  {
   "cell_type": "markdown",
   "id": "89a64cc1-21e9-4929-af7d-b1ad8e4bcb23",
   "metadata": {},
   "source": [
    "## Author\n",
    "Nathan Mao"
   ]
  },
  {
   "cell_type": "code",
   "execution_count": null,
   "id": "4de2897c-c5e5-4c58-a9ce-e5ea5d2a0fa8",
   "metadata": {},
   "outputs": [],
   "source": []
  }
 ],
 "metadata": {
  "kernelspec": {
   "display_name": "Python 3 (ipykernel)",
   "language": "python",
   "name": "python3"
  },
  "language_info": {
   "codemirror_mode": {
    "name": "ipython",
    "version": 3
   },
   "file_extension": ".py",
   "mimetype": "text/x-python",
   "name": "python",
   "nbconvert_exporter": "python",
   "pygments_lexer": "ipython3",
   "version": "3.11.5"
  }
 },
 "nbformat": 4,
 "nbformat_minor": 5
}
